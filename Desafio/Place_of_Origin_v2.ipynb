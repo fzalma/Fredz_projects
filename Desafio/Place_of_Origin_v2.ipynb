{
 "cells": [
  {
   "cell_type": "code",
   "execution_count": 40,
   "metadata": {},
   "outputs": [],
   "source": [
    "import pandas as pd\n",
    "import numpy as np\n",
    "import openfoodfacts\n",
    "import geopandas\n",
    "import geopy"
   ]
  },
  {
   "cell_type": "markdown",
   "metadata": {},
   "source": [
    "The user scans the barcode and the system gets the number. Here done via manual input"
   ]
  },
  {
   "cell_type": "code",
   "execution_count": 41,
   "metadata": {},
   "outputs": [
    {
     "name": "stdout",
     "output_type": "stream",
     "text": [
      "get the barcode: 3760094310634\n"
     ]
    }
   ],
   "source": [
    "barcode = input('get the barcode: ')"
   ]
  },
  {
   "cell_type": "markdown",
   "metadata": {},
   "source": [
    "Search for the product"
   ]
  },
  {
   "cell_type": "code",
   "execution_count": 42,
   "metadata": {},
   "outputs": [],
   "source": [
    "product = openfoodfacts.products.get_product(barcode)"
   ]
  },
  {
   "cell_type": "code",
   "execution_count": 43,
   "metadata": {},
   "outputs": [],
   "source": [
    "df = pd.DataFrame(zip(product['product'].keys(), product['product'].values()), columns=['tags','value'])"
   ]
  },
  {
   "cell_type": "code",
   "execution_count": 44,
   "metadata": {},
   "outputs": [
    {
     "data": {
      "text/html": [
       "<div>\n",
       "<style scoped>\n",
       "    .dataframe tbody tr th:only-of-type {\n",
       "        vertical-align: middle;\n",
       "    }\n",
       "\n",
       "    .dataframe tbody tr th {\n",
       "        vertical-align: top;\n",
       "    }\n",
       "\n",
       "    .dataframe thead th {\n",
       "        text-align: right;\n",
       "    }\n",
       "</style>\n",
       "<table border=\"1\" class=\"dataframe\">\n",
       "  <thead>\n",
       "    <tr style=\"text-align: right;\">\n",
       "      <th></th>\n",
       "      <th>tags</th>\n",
       "      <th>value</th>\n",
       "    </tr>\n",
       "  </thead>\n",
       "  <tbody>\n",
       "    <tr>\n",
       "      <th>0</th>\n",
       "      <td>rev</td>\n",
       "      <td>31</td>\n",
       "    </tr>\n",
       "    <tr>\n",
       "      <th>1</th>\n",
       "      <td>lang_imported</td>\n",
       "      <td>fr</td>\n",
       "    </tr>\n",
       "    <tr>\n",
       "      <th>2</th>\n",
       "      <td>ingredients_analysis_tags</td>\n",
       "      <td>[en:palm-oil-free, en:maybe-vegan, en:vegetarian]</td>\n",
       "    </tr>\n",
       "    <tr>\n",
       "      <th>3</th>\n",
       "      <td>unknown_nutrients_tags</td>\n",
       "      <td>[]</td>\n",
       "    </tr>\n",
       "    <tr>\n",
       "      <th>4</th>\n",
       "      <td>traces_lc</td>\n",
       "      <td>fr</td>\n",
       "    </tr>\n",
       "    <tr>\n",
       "      <th>...</th>\n",
       "      <td>...</td>\n",
       "      <td>...</td>\n",
       "    </tr>\n",
       "    <tr>\n",
       "      <th>246</th>\n",
       "      <td>unknown_ingredients_n</td>\n",
       "      <td>0</td>\n",
       "    </tr>\n",
       "    <tr>\n",
       "      <th>247</th>\n",
       "      <td>generic_name_fr</td>\n",
       "      <td>céréales de petit déjeuner aux flocons d'avoin...</td>\n",
       "    </tr>\n",
       "    <tr>\n",
       "      <th>248</th>\n",
       "      <td>origins_tags</td>\n",
       "      <td>[]</td>\n",
       "    </tr>\n",
       "    <tr>\n",
       "      <th>249</th>\n",
       "      <td>brands_imported</td>\n",
       "      <td>Aline &amp; Olivier</td>\n",
       "    </tr>\n",
       "    <tr>\n",
       "      <th>250</th>\n",
       "      <td>category_properties</td>\n",
       "      <td>{'ciqual_food_name:en': 'Breakfast cereals, sw...</td>\n",
       "    </tr>\n",
       "  </tbody>\n",
       "</table>\n",
       "<p>251 rows × 2 columns</p>\n",
       "</div>"
      ],
      "text/plain": [
       "                          tags  \\\n",
       "0                          rev   \n",
       "1                lang_imported   \n",
       "2    ingredients_analysis_tags   \n",
       "3       unknown_nutrients_tags   \n",
       "4                    traces_lc   \n",
       "..                         ...   \n",
       "246      unknown_ingredients_n   \n",
       "247            generic_name_fr   \n",
       "248               origins_tags   \n",
       "249            brands_imported   \n",
       "250        category_properties   \n",
       "\n",
       "                                                 value  \n",
       "0                                                   31  \n",
       "1                                                   fr  \n",
       "2    [en:palm-oil-free, en:maybe-vegan, en:vegetarian]  \n",
       "3                                                   []  \n",
       "4                                                   fr  \n",
       "..                                                 ...  \n",
       "246                                                  0  \n",
       "247  céréales de petit déjeuner aux flocons d'avoin...  \n",
       "248                                                 []  \n",
       "249                                    Aline & Olivier  \n",
       "250  {'ciqual_food_name:en': 'Breakfast cereals, sw...  \n",
       "\n",
       "[251 rows x 2 columns]"
      ]
     },
     "execution_count": 44,
     "metadata": {},
     "output_type": "execute_result"
    }
   ],
   "source": [
    "df"
   ]
  },
  {
   "cell_type": "markdown",
   "metadata": {},
   "source": [
    "We get the only relevant data"
   ]
  },
  {
   "cell_type": "code",
   "execution_count": 45,
   "metadata": {},
   "outputs": [
    {
     "data": {
      "text/html": [
       "<div>\n",
       "<style scoped>\n",
       "    .dataframe tbody tr th:only-of-type {\n",
       "        vertical-align: middle;\n",
       "    }\n",
       "\n",
       "    .dataframe tbody tr th {\n",
       "        vertical-align: top;\n",
       "    }\n",
       "\n",
       "    .dataframe thead th {\n",
       "        text-align: right;\n",
       "    }\n",
       "</style>\n",
       "<table border=\"1\" class=\"dataframe\">\n",
       "  <thead>\n",
       "    <tr style=\"text-align: right;\">\n",
       "      <th>tags</th>\n",
       "      <th>cities_tags</th>\n",
       "      <th>emb_codes</th>\n",
       "      <th>manufacturing_places</th>\n",
       "    </tr>\n",
       "  </thead>\n",
       "  <tbody>\n",
       "    <tr>\n",
       "      <th>value</th>\n",
       "      <td>[]</td>\n",
       "      <td>DDM</td>\n",
       "      <td>13103 SAINT ETIENNE DU GRES</td>\n",
       "    </tr>\n",
       "  </tbody>\n",
       "</table>\n",
       "</div>"
      ],
      "text/plain": [
       "tags  cities_tags emb_codes         manufacturing_places\n",
       "value          []       DDM  13103 SAINT ETIENNE DU GRES"
      ]
     },
     "execution_count": 45,
     "metadata": {},
     "output_type": "execute_result"
    }
   ],
   "source": [
    "df = df.T\n",
    "df.columns = df.iloc[0]\n",
    "df = df[1:]\n",
    "campos = df[['cities_tags', 'emb_codes', 'manufacturing_places']]\n",
    "campos"
   ]
  },
  {
   "cell_type": "markdown",
   "metadata": {},
   "source": [
    "Search for the place of origin from those fields.  \n",
    "It is underdstood that the city field is the most appropriate, then the tracability code then the manufacturing places.  \n",
    "If those information are empty, the place of origin cannot be displayed."
   ]
  },
  {
   "cell_type": "code",
   "execution_count": 46,
   "metadata": {},
   "outputs": [],
   "source": [
    "place_of_origin = ''\n",
    "\n",
    "if 'cities_tags' in campos.columns and len(campos['cities_tags'][0]) != 0:\n",
    "    place_of_origin = campos['cities_tags'][0]\n",
    "    \n",
    "#elif 'emb_codes' in campos.columns and len(campos['emb_codes'][0]) != 0:\n",
    "#    search_result = openfoodfacts.products.search(campos['emb_codes'][0])\n",
    "#    if 'manufacturing_places' in search_result['products'] and len(search_result['products'][0]['manufacturing_places']) != 0:\n",
    "#        place_of_origin = search_result['products'][0]['manufacturing_places'][0]\n",
    "        \n",
    "elif 'manufacturing_places' in campos.columns and len(campos['manufacturing_places']) != 0:\n",
    "    place_of_origin = campos['manufacturing_places'][0]\n",
    "    \n",
    "else:\n",
    "    place_of_origin = 'No known origin'"
   ]
  },
  {
   "cell_type": "code",
   "execution_count": 47,
   "metadata": {},
   "outputs": [
    {
     "data": {
      "text/plain": [
       "'13103 SAINT ETIENNE DU GRES'"
      ]
     },
     "execution_count": 47,
     "metadata": {},
     "output_type": "execute_result"
    }
   ],
   "source": [
    "place_of_origin"
   ]
  },
  {
   "cell_type": "code",
   "execution_count": 48,
   "metadata": {},
   "outputs": [],
   "source": [
    "from geopy.geocoders import Nominatim\n",
    "locator = Nominatim(user_agent=\"myGeocoder\")\n",
    "location = locator.geocode(place_of_origin)"
   ]
  },
  {
   "cell_type": "code",
   "execution_count": 49,
   "metadata": {},
   "outputs": [
    {
     "name": "stdout",
     "output_type": "stream",
     "text": [
      "Latitude = 43.7809809, Longitude = 4.7311849\n"
     ]
    }
   ],
   "source": [
    "print(\"Latitude = {}, Longitude = {}\".format(location.latitude, location.longitude))"
   ]
  },
  {
   "cell_type": "code",
   "execution_count": null,
   "metadata": {},
   "outputs": [],
   "source": []
  }
 ],
 "metadata": {
  "kernelspec": {
   "display_name": "Python 3",
   "language": "python",
   "name": "python3"
  },
  "language_info": {
   "codemirror_mode": {
    "name": "ipython",
    "version": 3
   },
   "file_extension": ".py",
   "mimetype": "text/x-python",
   "name": "python",
   "nbconvert_exporter": "python",
   "pygments_lexer": "ipython3",
   "version": "3.8.3"
  },
  "varInspector": {
   "cols": {
    "lenName": 16,
    "lenType": 16,
    "lenVar": 40
   },
   "kernels_config": {
    "python": {
     "delete_cmd_postfix": "",
     "delete_cmd_prefix": "del ",
     "library": "var_list.py",
     "varRefreshCmd": "print(var_dic_list())"
    },
    "r": {
     "delete_cmd_postfix": ") ",
     "delete_cmd_prefix": "rm(",
     "library": "var_list.r",
     "varRefreshCmd": "cat(var_dic_list()) "
    }
   },
   "types_to_exclude": [
    "module",
    "function",
    "builtin_function_or_method",
    "instance",
    "_Feature"
   ],
   "window_display": false
  }
 },
 "nbformat": 4,
 "nbformat_minor": 4
}
